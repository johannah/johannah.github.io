{
 "cells": [
  {
   "cell_type": "raw",
   "metadata": {},
   "source": [
    "What does the magnetic data look like?\n",
    "\n",
    "The data we are looking at was colleted by an APS sensor. This reported data needs to be adjusted because the data reading system on the drifter used a different format (HMR). (MT)"
   ]
  },
  {
   "cell_type": "raw",
   "metadata": {},
   "source": [
    "External Field Correction using Diurnal Effect \n",
    "\n",
    "We can look for the diurnal effect in the drifter records by averaging (results will improve with larger N).  The idea is that the crustal anomaly from any given drifter should be random, but the external field variation should be the same for a broad area (unless the drifters get really far apart).  So the average reading of all drifters should be the external field, i.e., add their responses together to get an average and use this as the external field correction. (WS)"
   ]
  },
  {
   "cell_type": "raw",
   "metadata": {},
   "source": [
    "1) Startup temperature dependence is plotted in the attached.  Results are similar to what you have found.  7 min. to stabilize and a drift of 200 nT on x-y sensors and 100 nT on Z.\n",
    "2) We estimate a temperature coefficient of sensitivity of -2700 ppm/C from your temperature plot.  Our expectation is -600 ppm/C.  There is a definite factor that is causing this excessive temp drift.\n",
    "(LW)"
   ]
  },
  {
   "cell_type": "code",
   "execution_count": 1,
   "metadata": {
    "collapsed": true
   },
   "outputs": [],
   "source": [
    "#need to remove bad geolocation plot or filter to predicted location \n",
    "#determine speed of travel"
   ]
  },
  {
   "cell_type": "code",
   "execution_count": 2,
   "metadata": {
    "collapsed": true
   },
   "outputs": [],
   "source": [
    "#verify temperature dependence\n",
    "#look at how temperature readings compare to estimated temp measurements from weather service"
   ]
  },
  {
   "cell_type": "code",
   "execution_count": 3,
   "metadata": {
    "collapsed": true
   },
   "outputs": [],
   "source": [
    "#battery correlation - looks like need voltage > .3 of normalized battery for good data"
   ]
  },
  {
   "cell_type": "code",
   "execution_count": 4,
   "metadata": {
    "collapsed": true
   },
   "outputs": [],
   "source": [
    "#perform masako's calibration\n",
    "#https://en.wikipedia.org/wiki/Proton_magnetometer\n",
    "#rolling calibration"
   ]
  },
  {
   "cell_type": "code",
   "execution_count": null,
   "metadata": {
    "collapsed": true
   },
   "outputs": [],
   "source": [
    "#what does the water surface look like during this time? Get wave height\n",
    "#is the high frequency noise related to roughness?\n",
    "#is the noise different on different axis? can this be explained by wind/wave direction?\n",
    "#will need to break up data into same as weather reports\n",
    "#split into \"pristine calm\" datasets"
   ]
  }
 ],
 "metadata": {
  "kernelspec": {
   "display_name": "Python 2",
   "language": "python",
   "name": "python2"
  },
  "language_info": {
   "codemirror_mode": {
    "name": "ipython",
    "version": 2
   },
   "file_extension": ".py",
   "mimetype": "text/x-python",
   "name": "python",
   "nbconvert_exporter": "python",
   "pygments_lexer": "ipython2",
   "version": "2.7.10"
  },
  "nikola": {
   "category": "",
   "date": "2015-08-21 16:31:26 UTC-04:00",
   "description": "",
   "link": "",
   "slug": "drifter_cleaning",
   "tags": "",
   "title": "drifter_cleaning",
   "type": "text"
  }
 },
 "nbformat": 4,
 "nbformat_minor": 0
}
