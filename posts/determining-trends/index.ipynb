{
 "cells": [
  {
   "cell_type": "markdown",
   "metadata": {},
   "source": [
    "Write your post here."
   ]
  }
 ],
 "metadata": {
  "kernelspec": {
   "display_name": "Python 2",
   "env": {},
   "language": "python",
   "name": "python2"
  },
  "nikola": {
   "category": "",
   "date": "2015-09-09 08:41:00 UTC-04:00",
   "description": "",
   "link": "",
   "slug": "determining-trends",
   "tags": "",
   "title": "Determining Trends",
   "type": "text"
  }
 },
 "nbformat": 4,
 "nbformat_minor": 0
}
